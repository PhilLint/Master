{
 "cells": [
  {
   "cell_type": "markdown",
   "metadata": {
    "colab_type": "text",
    "id": "lIZrAUx57vsM"
   },
   "source": [
    "Practical 1: Sentiment Detection of Movie Reviews\n",
    "========================================\n",
    "\n"
   ]
  },
  {
   "cell_type": "markdown",
   "metadata": {
    "colab_type": "text",
    "id": "J4kXPMhyngZW"
   },
   "source": [
    "This practical concerns sentiment detection of movie reviews.\n",
    "In [this file](https://gist.githubusercontent.com/bastings/d47423301cca214e3930061a5a75e177/raw/5113687382919e22b1f09ce71a8fecd1687a5760/reviews.json) (80MB) you will find 1000 positive and 1000 negative **movie reviews**.\n",
    "Each review is a **document** and consists of one or more sentences.\n",
    "\n",
    "To prepare yourself for this practical, you should\n",
    "have a look at a few of these texts to understand the difficulties of\n",
    "the task (how might one go about classifying the texts?); you will write\n",
    "code that decides whether a random unseen movie review is positive or\n",
    "negative.\n",
    "\n",
    "Please make sure you have read the following paper:\n",
    "\n",
    ">   Bo Pang, Lillian Lee, and Shivakumar Vaithyanathan\n",
    "(2002). \n",
    "[Thumbs up? Sentiment Classification using Machine Learning\n",
    "Techniques](https://dl.acm.org/citation.cfm?id=1118704). EMNLP.\n",
    "\n",
    "Bo Pang et al. were the \"inventors\" of the movie review sentiment\n",
    "classification task, and the above paper was one of the first papers on\n",
    "the topic. The first version of your sentiment classifier will do\n",
    "something similar to Bo Pang’s system. If you have questions about it,\n",
    "we should resolve them in our first demonstrated practical.\n"
   ]
  },
  {
   "cell_type": "markdown",
   "metadata": {
    "colab_type": "text",
    "id": "cb7errgRASzZ"
   },
   "source": [
    "**Advice**\n",
    "\n",
    "Please read through the entire practical and familiarise\n",
    "yourself with all requirements before you start coding or otherwise\n",
    "solving the tasks. Writing clean and concise code can make the difference\n",
    "between solving the assignment in a matter of hours, and taking days to\n",
    "run all experiments.\n",
    "\n",
    "**Environment**\n",
    "\n",
    "All code should be written in **Python 3**. \n",
    "If you use Colab, check if you have that version with `Runtime -> Change runtime type` in the top menu.\n",
    "\n",
    "> If you want to work in your own computer, then download this notebook through `File -> Download .ipynb`.\n",
    "The easiest way to\n",
    "install Python is through downloading\n",
    "[Anaconda](https://www.anaconda.com/download). \n",
    "After installation, you can start the notebook by typing `jupyter notebook filename.ipynb`.\n",
    "You can also use an IDE\n",
    "such as [PyCharm](https://www.jetbrains.com/pycharm/download/) to make\n",
    "coding and debugging easier. It is good practice to create a [virtual\n",
    "environment](https://docs.python.org/3/tutorial/venv.html) for this\n",
    "project, so that any Python packages don’t interfere with other\n",
    "projects.\n",
    "\n",
    "#### Learning Python 3\n",
    "\n",
    "If you are new to Python 3, you may want to check out a few of these resources:\n",
    "- https://learnxinyminutes.com/docs/python3/\n",
    "- https://www.learnpython.org/\n",
    "- https://docs.python.org/3/tutorial/"
   ]
  },
  {
   "cell_type": "markdown",
   "metadata": {
    "colab_type": "text",
    "id": "bXWyGHwE-ieQ"
   },
   "source": [
    "Loading the Data\n",
    "-------------------------------------------------------------"
   ]
  },
  {
   "cell_type": "code",
   "execution_count": null,
   "metadata": {
    "colab": {},
    "colab_type": "code",
    "id": "lm-rakqtlMOT"
   },
   "outputs": [],
   "source": [
    "# download sentiment lexicon\n",
    "!wget https://gist.githubusercontent.com/bastings/d6f99dcb6c82231b94b013031356ba05/raw/f80a0281eba8621b122012c89c8b5e2200b39fd6/sent_lexicon\n",
    "# download review data\n",
    "!wget https://gist.githubusercontent.com/bastings/d47423301cca214e3930061a5a75e177/raw/5113687382919e22b1f09ce71a8fecd1687a5760/reviews.json"
   ]
  },
  {
   "cell_type": "code",
   "execution_count": 1,
   "metadata": {
    "colab": {},
    "colab_type": "code",
    "id": "hok-BFu9lGoK"
   },
   "outputs": [],
   "source": [
    "import math\n",
    "import os\n",
    "import sys\n",
    "from subprocess import call\n",
    "from nltk import FreqDist\n",
    "from nltk.util import ngrams\n",
    "from nltk.stem.porter import PorterStemmer\n",
    "import sklearn as sk\n",
    "#from google.colab import drive\n",
    "import pickle\n",
    "import json\n",
    "from collections import Counter\n",
    "import requests\n",
    "import matplotlib.pyplot as plt\n",
    "import numpy as np"
   ]
  },
  {
   "cell_type": "code",
   "execution_count": 2,
   "metadata": {
    "colab": {},
    "colab_type": "code",
    "id": "careEKj-mRpl"
   },
   "outputs": [
    {
     "name": "stdout",
     "output_type": "stream",
     "text": [
      "2000\n",
      "0 NEG 29\n",
      "Two/CD teen/JJ couples/NNS go/VBP to/TO a/DT church/NN party/NN ,/, drink/NN and/CC then/RB drive/NN ./.\n",
      "1 NEG 11\n",
      "Damn/JJ that/IN Y2K/CD bug/NN ./.\n",
      "2 NEG 24\n",
      "It/PRP is/VBZ movies/NNS like/IN these/DT that/WDT make/VBP a/DT jaded/JJ movie/NN viewer/NN thankful/JJ for/IN the/DT invention/NN of/IN the/DT Timex/NNP IndiGlo/NNP watch/NN ./.\n",
      "3 NEG 19\n",
      "QUEST/NN FOR/IN CAMELOT/NNP ``/`` Quest/NNP for/IN Camelot/NNP ''/'' is/VBZ Warner/NNP Bros./NNP '/POS first/JJ feature-length/JJ ,/, fully-animated/JJ attempt/NN to/TO steal/VB clout/NN from/IN Disney/NNP 's/POS cartoon/NN empire/NN ,/, but/CC the/DT mouse/NN has/VBZ no/DT reason/NN to/TO be/VB worried/VBN ./.\n",
      "4 NEG 38\n",
      "Synopsis/NNPS :/: A/DT mentally/RB unstable/JJ man/NN undergoing/VBG psychotherapy/NN saves/VBZ a/DT boy/NN from/IN a/DT potentially/RB fatal/JJ accident/NN and/CC then/RB falls/VBZ in/IN love/NN with/IN the/DT boy/NN 's/POS mother/NN ,/, a/DT fledgling/NN restauranteur/NN ./.\n",
      "#types 47743\n",
      "Most common tokens:\n",
      "         , :    77842\n",
      "       the :    75948\n",
      "         . :    59027\n",
      "         a :    37583\n",
      "       and :    35235\n",
      "        of :    33864\n",
      "        to :    31601\n",
      "        is :    25972\n",
      "        in :    21563\n",
      "        's :    18043\n",
      "        it :    15904\n",
      "      that :    15820\n",
      "     -rrb- :    11768\n",
      "     -lrb- :    11670\n",
      "        as :    11312\n",
      "      with :    10739\n",
      "       for :     9816\n",
      "       his :     9542\n",
      "      this :     9497\n",
      "      film :     9404\n",
      "        '' :     9282\n",
      "        he :     8804\n",
      "        `` :     8801\n",
      "         i :     8619\n",
      "       but :     8537\n"
     ]
    }
   ],
   "source": [
    "# load reviews into memory\n",
    "# file structure:\n",
    "# [\n",
    "#  {\"cv\": integer, \"sentiment\": str, \"content\": list} \n",
    "#  {\"cv\": integer, \"sentiment\": str, \"content\": list} \n",
    "#   ..\n",
    "# ]\n",
    "# where `content` is a list of sentences, \n",
    "# with a sentence being a list of (token, pos_tag) pairs.\n",
    "\n",
    "# For documentation on POS-tags, see \n",
    "# https://catalog.ldc.upenn.edu/docs/LDC99T42/tagguid1.pdf\n",
    "\n",
    "with open(\"reviews.json\", mode=\"r\", encoding=\"utf-8\") as f:\n",
    "    reviews = json.load(f)\n",
    "    \n",
    "print(len(reviews))\n",
    "\n",
    "def print_sentence_with_pos(s):\n",
    "    print(\" \".join(\"%s/%s\" % (token, pos_tag) for token, pos_tag in s))\n",
    "\n",
    "for i, r in enumerate(reviews):\n",
    "    print(r[\"cv\"], r[\"sentiment\"], len(r[\"content\"]))  # cv, sentiment, num sents\n",
    "    print_sentence_with_pos(r[\"content\"][0])\n",
    "    if i == 4: \n",
    "        break\n",
    "    \n",
    "c = Counter()\n",
    "for review in reviews:\n",
    "    for sentence in review[\"content\"]:\n",
    "        for token, pos_tag in sentence:\n",
    "            c[token.lower()] += 1\n",
    "\n",
    "print(\"#types\", len(c))\n",
    "\n",
    "print(\"Most common tokens:\")\n",
    "for token, count in c.most_common(25):\n",
    "    print(\"%10s : %8d\" % (token, count))\n",
    "  "
   ]
  },
  {
   "cell_type": "markdown",
   "metadata": {
    "colab_type": "text",
    "id": "E6PWaEoh8B34"
   },
   "source": [
    "Symbolic approach – sentiment lexicon (2pts)\n",
    "---------------------------------------------------------------------\n",
    "\n"
   ]
  },
  {
   "cell_type": "markdown",
   "metadata": {
    "colab_type": "text",
    "id": "JsTSMb6ma4E8"
   },
   "source": [
    "**How** could one automatically classify movie reviews according to their\n",
    "sentiment? \n",
    "\n",
    "If we had access to a **sentiment lexicon**, then there are ways to solve\n",
    "the problem without using Machine Learning. One might simply look up\n",
    "every open-class word in the lexicon, and compute a binary score\n",
    "$S_{binary}$ by counting how many words match either a positive, or a\n",
    "negative word entry in the sentiment lexicon $SLex$.\n",
    "\n",
    "$$S_{binary}(w_1w_2...w_n) = \\sum_{i = 1}^{n}\\text{sgn}(SLex\\big[w_i\\big])$$\n",
    "\n",
    "**Threshold.** In average there are more positive than negative words per review (~7.13 more positive than negative per review) to take this bias into account you should use a threshold of **8** (roughly the bias itself) to make it harder to classify as positive.\n",
    "\n",
    "$$\n",
    "\\text{classify}(S_{binary}(w_1w_2...w_n)) = \\bigg\\{\\begin{array}{ll}\n",
    "        \\text{positive} & \\text{if } S_{binary}(w_1w_2...w_n) > threshold\\\\\n",
    "        \\text{negative} & \\text{else }\n",
    "        \\end{array}\n",
    "$$\n",
    "\n",
    "To implement this approach, you should use the sentiment\n",
    "lexicon in `sent_lexicon`, which was taken from the\n",
    "following work:\n",
    "\n",
    "> Theresa Wilson, Janyce Wiebe, and Paul Hoffmann\n",
    "(2005). [Recognizing Contextual Polarity in Phrase-Level Sentiment\n",
    "Analysis](http://www.aclweb.org/anthology/H/H05/H05-1044.pdf). HLT-EMNLP."
   ]
  },
  {
   "cell_type": "markdown",
   "metadata": {
    "colab_type": "text",
    "id": "tOFnMvbeeZrc"
   },
   "source": [
    "\n",
    "#### (Q: 1.1) Implement this approach and report its classification accuracy. (1 pt)"
   ]
  },
  {
   "cell_type": "markdown",
   "metadata": {},
   "source": [
    "##### This block loads the lexicon file and stores the sentiments and word types as dictionaries"
   ]
  },
  {
   "cell_type": "code",
   "execution_count": 3,
   "metadata": {
    "colab": {},
    "colab_type": "code",
    "id": "ED2aTEYutW1-"
   },
   "outputs": [
    {
     "name": "stdout",
     "output_type": "stream",
     "text": [
      "Loaded the file!\n"
     ]
    }
   ],
   "source": [
    "#\n",
    "# Given a line from the sentiment file \n",
    "# ex. type=weaksubj len=1 word1=abandoned pos1=adj stemmed1=n priorpolarity=negative\n",
    "# Returns a dictionary \n",
    "# ex. {type: weaksubj, len: 1, word1: abandoned, pos1: adj, stemmed1: n, priorpolarity: negative}\n",
    "#\n",
    "def sentiment_line_to_dict(line):\n",
    "    dictionary = {}\n",
    "    \n",
    "    words = line.split()\n",
    "    for word in words:\n",
    "        variable_assignment = word.split('=')\n",
    "        variable = variable_assignment[0]\n",
    "        value = variable_assignment[1]\n",
    "        \n",
    "        dictionary[variable] = value\n",
    "    \n",
    "    return dictionary\n",
    "\n",
    "#\n",
    "# Adds the word with the sentiment to the dictionary.\n",
    "# If the word is already in the dictionary and the sentiments are conflicting, \n",
    "# the sentiment will be set to 0 (neutral).\n",
    "#\n",
    "def add_sentiment_to_dict(sentiment_dict, word, sentiment):\n",
    "    if word in sentiment_dict.keys():\n",
    "        if not sentiment_dict[word] == sentiment:\n",
    "            sentiment_dict[word] = 0\n",
    "    else:\n",
    "         sentiment_dict[word] = sentiment\n",
    "    \n",
    "    return sentiment_dict\n",
    "\n",
    "#\n",
    "# Adds the word with the type to the dictionary.\n",
    "# If the word is already in the dictionary and the types are conflicting, \n",
    "# the type will be set to 2 (neutral).\n",
    "#\n",
    "def add_type_to_dict(type_dict, word, word_type):\n",
    "    if word in type_dict.keys():\n",
    "        if not type_dict[word] == word_type:\n",
    "            type_dict[word] = 2\n",
    "    else:\n",
    "         type_dict[word] = word_type\n",
    "            \n",
    "    return type_dict\n",
    "\n",
    "\n",
    "#\n",
    "# Converts a sentiment string: \"positive\", \"negative\", \"neutral\" to 1, -1 and 0 respectively.\n",
    "#\n",
    "def sentiment_to_score(sentiment_as_string):\n",
    "    if sentiment_as_string == 'positive':\n",
    "        return 1\n",
    "    if sentiment_as_string == 'negative':\n",
    "        return -1\n",
    "    return 0\n",
    "\n",
    "\n",
    "#\n",
    "# Converts a type string: \"strongsubj\", \"weaksubj\" to 2, and 1 respectively.\n",
    "#\n",
    "def type_to_score(type_as_string):\n",
    "    if type_as_string == 'strongsubj':\n",
    "        return 3\n",
    "    if type_as_string == 'weaksubj':\n",
    "        return 1\n",
    "    \n",
    "    return 1\n",
    "    \n",
    "    \n",
    "#\n",
    "# Parses the lexicon file and return 2 dictionaries:\n",
    "#  sentiment_dict with structure: { \"love\": 1, \"hate\": -1, \"butter\": 0 ... }\n",
    "#    1 is positive, -1 is negative, 0 is neutral.\n",
    "#\n",
    "#  type_dict with structure:      { \"love\": 2, \"hate\": 1, \"butter\": 1.5 ... } \n",
    "#    2 is a strong type, 1 is a weak type and 1.5 is a word that had both types in the file.\n",
    "#\n",
    "def parse_lexicon_to_dicts():\n",
    "    with open(\"sent_lexicon\", mode=\"r\", encoding=\"utf-8\") as file:\n",
    "        array_of_lines = file.readlines()\n",
    "    \n",
    "    sentiment_dict = {}\n",
    "    type_dict = {}\n",
    "    \n",
    "    for line in array_of_lines:\n",
    "        line_as_dict = sentiment_line_to_dict(line)\n",
    "        \n",
    "        word      = line_as_dict['word1']\n",
    "        word_type = type_to_score(line_as_dict['type'])\n",
    "        sentiment = sentiment_to_score(line_as_dict['priorpolarity'])\n",
    "        \n",
    "        sentiment_dict = add_sentiment_to_dict(sentiment_dict, word, sentiment)\n",
    "        type_dict      = add_type_to_dict(type_dict, word, word_type)\n",
    "        \n",
    "    return sentiment_dict, type_dict\n",
    "\n",
    "\n",
    "sentiment_dict, type_dict = parse_lexicon_to_dicts()    \n",
    "print(\"Loaded the file!\")\n"
   ]
  },
  {
   "cell_type": "markdown",
   "metadata": {},
   "source": [
    "##### This block contains the binary classification code"
   ]
  },
  {
   "cell_type": "code",
   "execution_count": 4,
   "metadata": {},
   "outputs": [],
   "source": [
    "THRESHOLD = 8\n",
    "\n",
    "\n",
    "#\n",
    "# Given a review returns a list of all the words.\n",
    "# note: all words are converted to lowercase\n",
    "#\n",
    "def get_words_of_review(review):\n",
    "    content = review['content']\n",
    "    \n",
    "    words = []\n",
    "    for line in content:\n",
    "        for word_pair in line:\n",
    "            word = word_pair[0]\n",
    "            word_in_lowercase = word.lower()\n",
    "            words.append(word_in_lowercase)\n",
    "            \n",
    "    return words\n",
    "\n",
    "\n",
    "#\n",
    "# Returns the binary (unaltered) score of the word;\n",
    "# 1 for positive, -1 for negative, 0 for neutral or not found.\n",
    "#\n",
    "def get_binary_score_of_word(word):\n",
    "    try:\n",
    "        return sentiment_dict[word]\n",
    "    except KeyError:\n",
    "        # Word not in our dictionary.\n",
    "        return 0\n",
    "\n",
    "\n",
    "#\n",
    "# Given a review returns the real sentiment.\n",
    "# -1 for negative, 1 for positive.\n",
    "#\n",
    "def get_real_sentiment_of_review(review):\n",
    "    if (review['sentiment'] == 'NEG'):\n",
    "        return -1\n",
    "    \n",
    "    return 1\n",
    " \n",
    "    \n",
    "#\n",
    "# Given a review returns 1 if it classifies it as positive, and -1 otherwise.\n",
    "#\n",
    "def binary_classify_review(review):\n",
    "    words = get_words_of_review(review)\n",
    "    \n",
    "    score = 0\n",
    "    for word in words:\n",
    "        score += get_binary_score_of_word(word)\n",
    "    \n",
    "    if score > THRESHOLD:\n",
    "        return 1\n",
    "    \n",
    "    return -1\n",
    "            \n",
    "\n",
    "#\n",
    "# Returns token_results which is a list of wheter our predictions were correct: ['-', '+', '-', ...]\n",
    "# And returns the accuracy as a percentage, e.g. 45 for 45% accuracy.\n",
    "#\n",
    "def binary_classify_all_reviews():\n",
    "    total = 0\n",
    "    correct = 0\n",
    "    token_results = []\n",
    "    \n",
    "    for review in reviews:\n",
    "        prediction     = binary_classify_review(review)\n",
    "        real_sentiment = get_real_sentiment_of_review(review)\n",
    "        \n",
    "        if prediction == real_sentiment:\n",
    "            correct += 1\n",
    "            token_results.append('+')\n",
    "        else:\n",
    "            token_results.append('-')\n",
    "        \n",
    "        total += 1\n",
    "    \n",
    "    accuracy = correct / total * 100\n",
    "    return accuracy, token_results\n",
    "\n"
   ]
  },
  {
   "cell_type": "code",
   "execution_count": 5,
   "metadata": {
    "colab": {},
    "colab_type": "code",
    "id": "iy528EUTphz5"
   },
   "outputs": [
    {
     "name": "stdout",
     "output_type": "stream",
     "text": [
      "Binary classification accuracy: 68.45%\n"
     ]
    }
   ],
   "source": [
    "binary_accuracy, binary_results = binary_classify_all_reviews()\n",
    "print(\"Binary classification accuracy: {0:.2f}%\".format(binary_accuracy))"
   ]
  },
  {
   "cell_type": "markdown",
   "metadata": {
    "colab_type": "text",
    "id": "Twox0s_3eS0V"
   },
   "source": [
    "If the sentiment lexicon also has information about the **magnitude** of\n",
    "sentiment (e.g., *“excellent\"* would have higher magnitude than\n",
    "*“good\"*), we could take a more fine-grained approach by adding up all\n",
    "sentiment scores, and deciding the polarity of the movie review using\n",
    "the sign of the weighted score $S_{weighted}$.\n",
    "\n",
    "$$S_{weighted}(w_1w_2...w_n) = \\sum_{i = 1}^{n}SLex\\big[w_i\\big]$$\n",
    "\n",
    "\n",
    "Their lexicon also records two possible magnitudes of sentiment (*weak*\n",
    "and *strong*), so you can implement both the binary and the weighted\n",
    "solutions (please use a switch in your program). For the weighted\n",
    "solution, you can choose the weights intuitively *once* before running\n",
    "the experiment.\n",
    "\n",
    "#### (Q: 1.2) Now incorporate magnitude information and report the classification accuracy. Don't forget to use the threshold. (1 pt)"
   ]
  },
  {
   "cell_type": "code",
   "execution_count": 6,
   "metadata": {
    "colab": {},
    "colab_type": "code",
    "id": "qG3hUDnPtkhS"
   },
   "outputs": [],
   "source": [
    "#\n",
    "# Returns the weighted score of the word;\n",
    "# it multiplies the original score of the word with the type (strong 3, neutral 2, or weak 1).\n",
    "#\n",
    "def get_weighted_score_of_word(word):\n",
    "    try:\n",
    "        score = sentiment_dict[word]\n",
    "        word_type = type_dict[word]\n",
    "        return word_type * score\n",
    "    \n",
    "    except KeyError:\n",
    "        # Word not in our dictionary.\n",
    "        return 0\n",
    "\n",
    "    \n",
    "#\n",
    "# Given a review returns 1 if it classifies it as positive, and -1 otherwise.\n",
    "#\n",
    "def weighted_classify_review(review):\n",
    "    words = get_words_of_review(review)\n",
    "    \n",
    "    score = 0\n",
    "    for word in words:\n",
    "        score += get_weighted_score_of_word(word)\n",
    "    \n",
    "    if score > THRESHOLD:\n",
    "        return 1\n",
    "    \n",
    "    return -1\n",
    "\n",
    "\n",
    "#\n",
    "# Returns token_results which is a list of wheter our predictions were correct: ['-', '+', '-', ...]\n",
    "# And returns the accuracy as a percentage, e.g. 45 for 45% accuracy.\n",
    "#\n",
    "def weighted_classify_all_reviews():\n",
    "    total = 0\n",
    "    correct = 0\n",
    "    token_results = []\n",
    "    \n",
    "    for review in reviews:\n",
    "        prediction     = weighted_classify_review(review)\n",
    "        real_sentiment = get_real_sentiment_of_review(review)\n",
    "        \n",
    "        if prediction == real_sentiment:\n",
    "            correct += 1\n",
    "            token_results.append('+')\n",
    "        else:\n",
    "            token_results.append('-')\n",
    "        \n",
    "        total += 1\n",
    "    \n",
    "    accuracy = correct / total * 100\n",
    "    return accuracy, token_results\n",
    "\n"
   ]
  },
  {
   "cell_type": "code",
   "execution_count": 7,
   "metadata": {
    "colab": {},
    "colab_type": "code",
    "id": "9vVk7CvDpyka"
   },
   "outputs": [
    {
     "name": "stdout",
     "output_type": "stream",
     "text": [
      "Magnitude classification accuracy: 68.80%\n"
     ]
    }
   ],
   "source": [
    "magnitude_accuracy, magnitude_results = weighted_classify_all_reviews()\n",
    "print(\"Magnitude classification accuracy: {0:.2f}%\".format(magnitude_accuracy))"
   ]
  },
  {
   "cell_type": "markdown",
   "metadata": {
    "colab_type": "text",
    "id": "h9SHoGPfsAHV"
   },
   "source": [
    "#### Optional: make a barplot of the two results."
   ]
  },
  {
   "cell_type": "code",
   "execution_count": 8,
   "metadata": {
    "colab": {},
    "colab_type": "code",
    "id": "8LgBcYcXsEk3"
   },
   "outputs": [
    {
     "data": {
      "image/png": "[encoded data removed]",
      "text/plain": [
       "<Figure size 432x288 with 1 Axes>"
      ]
     },
     "metadata": {
      "needs_background": "light"
     },
     "output_type": "display_data"
    }
   ],
   "source": [
    "\n",
    "plt.bar(\"Binary\", binary_accuracy)\n",
    "plt.bar(\"Magnitude\", magnitude_accuracy)\n",
    "plt.ylabel(\"Accuracy in %\")\n",
    "plt.title(\"Accuracy of binary and magnitude classification\")\n",
    "\n",
    "plt.show()\n"
   ]
  },
  {
   "cell_type": "markdown",
   "metadata": {
    "colab_type": "text",
    "id": "6MFrz8Jink0D"
   },
   "source": [
    "Answering questions in statistically significant ways (1pt)\n",
    "-------------------------------------------------------------"
   ]
  },
  {
   "cell_type": "markdown",
   "metadata": {
    "colab_type": "text",
    "id": "kxkxrldT9Ymc"
   },
   "source": [
    "Does using the magnitude improve the results? Oftentimes, answering questions like this about the performance of\n",
    "different signals and/or algorithms by simply looking at the output\n",
    "numbers is not enough. When dealing with natural language or human\n",
    "ratings, it’s safe to assume that there are infinitely many possible\n",
    "instances that could be used for training and testing, of which the ones\n",
    "we actually train and test on are a tiny sample. Thus, it is possible\n",
    "that observed differences in the reported performance are really just\n",
    "noise. \n",
    "\n",
    "There exist statistical methods which can be used to check for\n",
    "consistency (*statistical significance*) in the results, and one of the\n",
    "simplest such tests is the **sign test**. \n",
    "\n",
    "The sign test is based on the binomial distribution. Count all cases when System 1 is better than System 2, when System 2 is better than System 1, and when they are the same. Call these numbers $Plus$, $Minus$ and $Null$ respectively. \n",
    "\n",
    "The sign test returns the probability that the null hypothesis is true. \n",
    "\n",
    "This probability is called the $p$-value and it can be calculated for the two-sided sign test using the following formula (we multiply by two because this is a two-sided sign test and tests for the significance of differences in either direction):\n",
    "\n",
    "$$2 \\, \\sum\\limits_{i=0}^{k} \\binom{N}{i} \\, q^i \\, (1-q)^{N-i}$$\n",
    "\n",
    "where $$N = 2 \\Big\\lceil \\frac{Null}{2}\\Big\\rceil + Plus + Minus$$ is the total\n",
    "number of cases, and\n",
    "$$k = \\Big\\lceil \\frac{Null}{2}\\Big\\rceil + \\min\\{Plus,Minus\\}$$ is the number of\n",
    "cases with the less common sign. \n",
    "\n",
    "In this experiment, $q = 0.5$. Here, we\n",
    "treat ties by adding half a point to either side, rounding up to the\n",
    "nearest integer if necessary. \n",
    "\n",
    "\n",
    "#### (Q 2.1): Implement the sign test. Is the difference between the two symbolic systems significant? What is the p-value? (1 pt)\n",
    "\n",
    "You should use the `comb` function from `scipy` and the `decimal` package for the stable adding of numbers in the final summation.\n",
    "\n",
    "You can quickly verify the correctness of\n",
    "your sign test code using a [free online\n",
    "tool](https://www.graphpad.com/quickcalcs/binomial1.cfm)."
   ]
  },
  {
   "cell_type": "code",
   "execution_count": 9,
   "metadata": {
    "colab": {},
    "colab_type": "code",
    "id": "de5l4oPkE-BS"
   },
   "outputs": [
    {
     "name": "stderr",
     "output_type": "stream",
     "text": [
      "/usr/local/Cellar/ipython/7.1.1/libexec/vendor/lib/python3.7/site-packages/ipykernel_launcher.py:27: DeprecationWarning: `comb` is deprecated!\n",
      "Importing `comb` from scipy.misc is deprecated in scipy 1.0.0. Use `scipy.special.comb` instead.\n"
     ]
    },
    {
     "name": "stdout",
     "output_type": "stream",
     "text": [
      "the difference is not significant\n",
      "p_value = 0.8933036830882829467364075248\n"
     ]
    }
   ],
   "source": [
    "from decimal import Decimal\n",
    "from scipy.misc import comb\n",
    "\n",
    "\n",
    "def sign_test(results_1, results_2):\n",
    "    \"\"\"test for significance\n",
    "    results_1 is a list of classification results (+ for correct, - incorrect)\n",
    "    results_2 is a list of classification results (+ for correct, - incorrect)\n",
    "    \"\"\"\n",
    "    ties, plus, minus = 0, 0, 0\n",
    "\n",
    "    # \"-\" carries the error\n",
    "    for i in range(0, len(results_1)):\n",
    "        if results_1[i]==results_2[i]:\n",
    "            ties += 1\n",
    "        elif results_1[i]==\"-\": \n",
    "            plus += 1\n",
    "        elif results_2[i]==\"-\": \n",
    "            minus += 1\n",
    "\n",
    "    n = Decimal(2 * math.ceil(ties / 2.) + plus + minus)\n",
    "    \n",
    "    k = Decimal(math.ceil(ties / 2.) + min(plus, minus))\n",
    "\n",
    "    summation = Decimal(0.0)\n",
    "    for i in range(0,int(k)+1):\n",
    "        summation += Decimal(comb(n, i, exact=True))\n",
    "\n",
    "    # use two-tailed version of test\n",
    "    summation *= 2\n",
    "    summation *= (Decimal(0.5)**Decimal(n))\n",
    "\n",
    "    print(\"the difference is\", \n",
    "        \"not significant\" if summation >= 0.05 else \"significant\")\n",
    "\n",
    "    return summation\n",
    "\n",
    "p_value = sign_test(binary_results, magnitude_results)\n",
    "print(\"p_value =\", p_value)"
   ]
  },
  {
   "cell_type": "markdown",
   "metadata": {
    "colab_type": "text",
    "id": "uhU_tk-BOaXb"
   },
   "source": [
    "## Using the Sign test\n",
    "\n",
    "**From now on, report all differences between systems using the\n",
    "sign test.** You can think about a change that you apply to one system, as a\n",
    " new system.\n",
    "    \n",
    "You should report statistical test\n",
    "results in an appropriate form – if there are several different methods\n",
    "(i.e., systems) to compare, tests can only be applied to pairs of them\n",
    "at a time. This creates a triangular matrix of test results in the\n",
    "general case. When reporting these pair-wise differences, you should\n",
    "summarise trends to avoid redundancy.\n"
   ]
  },
  {
   "cell_type": "markdown",
   "metadata": {
    "colab_type": "text",
    "id": "LibV4nR89BXb"
   },
   "source": [
    "Naive Bayes (8pt + 1pt bonus)\n",
    "=========="
   ]
  },
  {
   "cell_type": "markdown",
   "metadata": {
    "colab_type": "text",
    "id": "fnF9adQnuwia"
   },
   "source": [
    "\n",
    "Your second task is to program a simple Machine Learning approach that operates\n",
    "on a simple Bag-of-Words (BoW) representation of the text data, as\n",
    "described in Pang et al. (2002). In this approach, the only features we\n",
    "will consider are the words in the text themselves, without bringing in\n",
    "external sources of information. The BoW model is a popular way of\n",
    "representing text information as vectors (or points in space), making it\n",
    "easy to apply classical Machine Learning algorithms on NLP tasks.\n",
    "However, the BoW representation is also very crude, since it discards\n",
    "all information related to word order and grammatical structure in the\n",
    "original text.\n",
    "\n",
    "## Writing your own classifier\n",
    "\n",
    "Write your own code to implement the Naive Bayes (NB) classifier. As\n",
    "a reminder, the Naive Bayes classifier works according to the following\n",
    "equation:\n",
    "$$\\hat{c} = \\operatorname*{arg\\,max}_{c \\in C} P(c|\\bar{f}) = \\operatorname*{arg\\,max}_{c \\in C} P(c)\\prod^n_{i=1} P(f_i|c)$$\n",
    "where $C = \\{ \\text{POS}, \\text{NEG} \\}$ is the set of possible classes,\n",
    "$\\hat{c} \\in C$ is the most probable class, and $\\bar{f}$ is the feature\n",
    "vector. Remember that we use the log of these probabilities when making\n",
    "a prediction:\n",
    "$$\\hat{c} = \\operatorname*{arg\\,max}_{c \\in C} \\Big\\{\\log P(c) + \\sum^n_{i=1} \\log P(f_i|c)\\Big\\}$$\n",
    "\n",
    "You can find more details about Naive Bayes in [Jurafsky &\n",
    "Martin](https://web.stanford.edu/~jurafsky/slp3/). You can also look at\n",
    "this helpful\n",
    "[pseudo-code](https://nlp.stanford.edu/IR-book/html/htmledition/naive-bayes-text-classification-1.html).\n",
    "\n",
    "*Note: this section and the next aim to put you a position to replicate\n",
    "    Pang et al., Naive Bayes results. However, the numerical results\n",
    "    will differ from theirs, as they used different data.*\n",
    "\n",
    "**You must write the Naive Bayes training and prediction code from\n",
    "scratch.** You will not be given credit for using off-the-shelf Machine\n",
    "Learning libraries.\n",
    "\n",
    "The data contains the text of the reviews, where each document consists\n",
    "of the sentences in the review, the sentiment of the review and an index\n",
    "(cv) that you will later use for cross-validation. You will find the\n",
    "text has already been tokenised and POS-tagged for you. Your algorithm\n",
    "should read in the text, **lowercase it**, and store the words and their\n",
    "frequencies in an appropriate data structure that allows for easy\n",
    "computation of the probabilities used in the Naive Bayes algorithm, and\n",
    "then make predictions for new instances."
   ]
  },
  {
   "cell_type": "markdown",
   "metadata": {
    "colab_type": "text",
    "id": "gsZRhaI3WvzC"
   },
   "source": [
    "#### (Q3.1) Train your classifier on (positive and negative) reviews with cv-value 000-899, and test it on the remaining reviews cv900–cv999.  Report results using simple classification accuracy as your evaluation metric. Your  features are the word vocabulary. The value of a feature is the count of that feature (word) in the document. (2pts)\n"
   ]
  },
  {
   "cell_type": "markdown",
   "metadata": {},
   "source": [
    "The following code block contains our BagOfWords class"
   ]
  },
  {
   "cell_type": "code",
   "execution_count": 10,
   "metadata": {},
   "outputs": [],
   "source": [
    "#\n",
    "# This class represents our bag of words. It stores the words in a dictionary in the following format:\n",
    "# BOW = {\n",
    "#   'cat': {\n",
    "#     'POS': 3,         # 3 positive occurences\n",
    "#     'NEG': 1,         # 1 negative occurences\n",
    "#     'P_POS': 0.001    # probability of this word occuring in positive review\n",
    "#     'P_NEG': 0.00033  # probability of this word occuring in negative review\n",
    "#   }, \n",
    "#   'dog': {\n",
    "#     etc..\n",
    "# }\n",
    "#\n",
    "class BagOfWords:\n",
    "    \n",
    "    def __init__(self, positive_prior):\n",
    "        self.positive_prior       = positive_prior\n",
    "        self.total_positive_words = 0\n",
    "        self.total_negative_words = 0\n",
    "        self.bag_of_words         = {}\n",
    "    \n",
    "    #\n",
    "    # Adds a words to the BOW, if it is already in the BOW it will increment the occurence of the word.\n",
    "    #\n",
    "    def add_word(self, word, sentiment):\n",
    "        # Keep a count of total number of positive and negative words.\n",
    "        if sentiment == 'POS':\n",
    "            self.count_positive_word()\n",
    "        else:\n",
    "            self.count_negative_word()\n",
    "        \n",
    "        # If the word is not yet in our bag of words:\n",
    "        # Initialize the word with 0 POS and 0 NEG occurences.\n",
    "        if not word in self.bag_of_words.keys():\n",
    "            self.bag_of_words[word] = {}\n",
    "            self.bag_of_words[word]['POS'] = 0\n",
    "            self.bag_of_words[word]['NEG'] = 0\n",
    "            \n",
    "        self.bag_of_words[word][sentiment] += 1\n",
    "    \n",
    "    \n",
    "    #\n",
    "    # Adds the P_POS and P_NEG to the BOW.\n",
    "    #\n",
    "    def add_probabilities(self, word, p_pos, p_neg):\n",
    "        if not word in self.bag_of_words.keys():\n",
    "            self.bag_of_words[word] = {}\n",
    "            self.bag_of_words[word]['POS'] = 0\n",
    "            self.bag_of_words[word]['NEG'] = 0\n",
    "        \n",
    "        self.bag_of_words[word]['P_POS'] = p_pos\n",
    "        self.bag_of_words[word]['P_NEG'] = p_neg\n",
    "        \n",
    "    #\n",
    "    # Increments the number of positive words it found by 1\n",
    "    #\n",
    "    def count_positive_word(self):\n",
    "        self.total_positive_words += 1\n",
    "    \n",
    "    #\n",
    "    # Increments the number of negative words it found by 1\n",
    "    #\n",
    "    def count_negative_word(self):\n",
    "        self.total_negative_words += 1\n",
    "    \n",
    "    #\n",
    "    # Returns the number of unique words in the BOW.\n",
    "    #\n",
    "    def get_n_unique_words(self):\n",
    "        return len(self.bag_of_words)\n",
    "    \n",
    "    #\n",
    "    # Returns the words in the bag of words.\n",
    "    #\n",
    "    def get_words(self):\n",
    "        return self.bag_of_words\n",
    "    \n",
    "    #\n",
    "    # Returns the number of occurences of the word with the given sentiment (POS or NEG)\n",
    "    #\n",
    "    def count_occurences(self, word, sentiment):\n",
    "        try:\n",
    "            return self.bag_of_words[word][sentiment]\n",
    "        except KeyError:\n",
    "            return 0\n",
    "    \n",
    "    #\n",
    "    # Returns the computed P_POS or P_NEG for the given word, if it is a new word 0 is returned.\n",
    "    #\n",
    "    def get_probability(self, word, sentiment):\n",
    "        sentiment = \"P_{}\".format(sentiment)\n",
    "        \n",
    "        try:\n",
    "            return self.bag_of_words[word][sentiment]\n",
    "        except KeyError:\n",
    "            return 0\n"
   ]
  },
  {
   "cell_type": "markdown",
   "metadata": {},
   "source": [
    "The following code block contains our BayesClassifier class."
   ]
  },
  {
   "cell_type": "code",
   "execution_count": 11,
   "metadata": {},
   "outputs": [],
   "source": [
    "\n",
    "class BayesClassifier:\n",
    "    \n",
    "    #\n",
    "    # use_smoothing: If True uses laplace smoothing with constant k=1\n",
    "    # use_stemming:  If True uses stemming.\n",
    "    # n_grams:       The number of features to use, e.g. if 2: both 1-grams and 2-grams are used as features.\n",
    "    #               if 3: both 1-grams, 2-grams and 3-grams are used as features.\n",
    "    #\n",
    "    def __init__(self, use_smoothing=False, use_stemming=False, n_grams=1):\n",
    "        self.use_smoothing = use_smoothing\n",
    "        self.use_stemming  = use_stemming\n",
    "        self.n_grams       = n_grams\n",
    "        self.stemmer       = PorterStemmer()\n",
    "    \n",
    "    #\n",
    "    # Given a list of train indices and a list of test indices trains the classifier\n",
    "    # and returns the accuracy (number) and the results (list of + and -).\n",
    "    # For question 3.2 we want to be able to indicate if we want only the POS, NEG or BOTH of a CV index.\n",
    "    # This is the list train_indices_sentiment and test_indices_sentiment.\n",
    "    # train_and_classify([1, 2, 3], [4], [\"BOTH\", \"POS\", \"POS\"], [\"NEG\"])\n",
    "    # will train on [1-NEG, 1-POS, 2-POS, 3-POS] and test on [4-NEG]\n",
    "    #\n",
    "    def train_and_classify(self, train_indices, test_indices, train_indices_sentiment=[], test_indices_sentiment=[]):\n",
    "        bag_of_words = self.train(train_indices, train_indices_sentiment)\n",
    "        \n",
    "        total   = 0\n",
    "        correct = 0\n",
    "        results = []\n",
    "        \n",
    "        for review in self.get_relevant_reviews(test_indices, test_indices_sentiment):\n",
    "            prediction = self.classify(bag_of_words, review)\n",
    "            true_label = review['sentiment']\n",
    "            \n",
    "            if prediction == true_label:\n",
    "                correct += 1\n",
    "                results.append('+')\n",
    "            else:\n",
    "                results.append('-')\n",
    "            \n",
    "            total += 1\n",
    "            \n",
    "        accuracy = correct / total * 100\n",
    "        return accuracy, results\n",
    "            \n",
    "    #\n",
    "    # Classifies a single review, returns POS or NEG.\n",
    "    #\n",
    "    def classify(self, bag_of_words, review):\n",
    "        score_positive = math.log(bag_of_words.positive_prior)\n",
    "        score_negative = math.log(1 - bag_of_words.positive_prior)\n",
    "        \n",
    "        for word in self.get_words_of_review(review):\n",
    "            \n",
    "            p_pos = bag_of_words.get_probability(word, 'POS')\n",
    "            p_neg = bag_of_words.get_probability(word, 'NEG')\n",
    "            \n",
    "            if p_pos > 0:\n",
    "                score_positive += math.log(p_pos)\n",
    "            if p_neg > 0:\n",
    "                score_negative += math.log(p_neg)\n",
    "            \n",
    "            # This word was not in the training set so the probability is 0!\n",
    "            if self.use_smoothing and (p_pos == 0 or p_neg == 0):\n",
    "                p_pos = 1 / (bag_of_words.total_positive_words + bag_of_words.get_n_unique_words())\n",
    "                p_neg = 1 / (bag_of_words.total_negative_words + bag_of_words.get_n_unique_words())\n",
    "                \n",
    "                score_positive += math.log(p_pos)\n",
    "                score_negative += math.log(p_neg)\n",
    "        \n",
    "        if (score_positive > score_negative):\n",
    "            return \"POS\"\n",
    "        else:\n",
    "            return \"NEG\"\n",
    "\n",
    "    \n",
    "    #\n",
    "    # Trains the classifier, creates a BOW with occurences and probabilities.\n",
    "    #\n",
    "    def train(self, indices, indices_sentiment):\n",
    "        bag_of_words = self.create_bag_of_words(indices, indices_sentiment)\n",
    "                   \n",
    "        for word in bag_of_words.get_words():\n",
    "            positive_occurences = bag_of_words.count_occurences(word, \"POS\")\n",
    "            negative_occurences = bag_of_words.count_occurences(word, \"NEG\")\n",
    "\n",
    "            if self.use_smoothing:\n",
    "                probability_pos = (positive_occurences + 1) / (bag_of_words.total_positive_words + bag_of_words.get_n_unique_words())\n",
    "                probability_neg = (negative_occurences + 1) / (bag_of_words.total_negative_words + bag_of_words.get_n_unique_words())\n",
    "            else:\n",
    "                if bag_of_words.total_positive_words == 0:\n",
    "                    probability_pos = 0\n",
    "                else:\n",
    "                    probability_pos = positive_occurences / bag_of_words.total_positive_words\n",
    "\n",
    "                if bag_of_words.total_negative_words == 0:\n",
    "                    probability_neg = 0\n",
    "                else:\n",
    "                    probability_neg = negative_occurences / bag_of_words.total_negative_words\n",
    "\n",
    "            bag_of_words.add_probabilities(word, probability_pos, probability_neg)\n",
    "    \n",
    "        return bag_of_words\n",
    "    \n",
    "    #\n",
    "    # Returns a bag of word object created from the given indices.\n",
    "    #\n",
    "    def create_bag_of_words(self, indices, indices_sentiment):\n",
    "        bag_of_words = BagOfWords(self.get_positive_prior(indices, indices_sentiment))\n",
    "        \n",
    "        relevant_reviews = self.get_relevant_reviews(indices, indices_sentiment)\n",
    "\n",
    "        for review in relevant_reviews:\n",
    "            for word in self.get_words_of_review(review):\n",
    "                bag_of_words.add_word(word, review['sentiment'])\n",
    "                \n",
    "        return bag_of_words\n",
    "    \n",
    "    #\n",
    "    # Given the train indices, gets the positive prior. (positive reviews / total reviews)\n",
    "    #\n",
    "    def get_positive_prior(self, indices, indices_sentiment):\n",
    "        n_positive = 0\n",
    "        n_total    = 0\n",
    "        \n",
    "        for review in reviews:\n",
    "            if not review['cv'] in indices:\n",
    "                continue\n",
    "            \n",
    "            if len(indices_sentiment) > 0:\n",
    "                if indices_sentiment[indices.index(review['cv'])] != \"BOTH\":\n",
    "                    if indices_sentiment[indices.index(review['cv'])] != review['sentiment']:\n",
    "                        continue\n",
    "                \n",
    "                \n",
    "            if review['sentiment'] == 'POS':\n",
    "                n_positive += 1\n",
    "            \n",
    "            n_total += 1\n",
    "            \n",
    "        return n_positive / n_total\n",
    "    \n",
    "    #\n",
    "    # Returns a list of the relevant reviews.\n",
    "    # - Only reviews with the given indices\n",
    "    # - If self.sentiment != \"BOTH\" only returns reviews of the same sentiment.\n",
    "    #\n",
    "    def get_relevant_reviews(self, indices, indices_sentiment):\n",
    "        relevant_reviews = []\n",
    "        \n",
    "        for review in reviews:\n",
    "            if not review['cv'] in indices:\n",
    "                continue\n",
    "                \n",
    "            if len(indices_sentiment) > 0:\n",
    "                if indices_sentiment[indices.index(review['cv'])] != \"BOTH\":\n",
    "                    if indices_sentiment[indices.index(review['cv'])] != review['sentiment']:\n",
    "                        continue\n",
    "            \n",
    "            relevant_reviews.append(review)\n",
    "        \n",
    "        return relevant_reviews\n",
    "    \n",
    "   \n",
    "    def get_words_of_review(self, review):\n",
    "        words = []\n",
    "        for line in review['content']:\n",
    "            for word_pair in line:\n",
    "                word = word_pair[0].lower()\n",
    "                \n",
    "                if self.use_stemming:\n",
    "                    word = self.stemmer.stem(word)\n",
    "                \n",
    "                words.append(word)\n",
    "        \n",
    "        ngrams = []\n",
    "        for i in range(0, self.n_grams):\n",
    "            \n",
    "            for j in range(0, len(words) - i):\n",
    "                ngram_word = \"\"\n",
    "                \n",
    "                for k in range(0, i+1):\n",
    "                    ngram_word += \"{}\\\\\".format(words[j+k])\n",
    "                ngrams.append(ngram_word)\n",
    "        \n",
    "        return ngrams\n"
   ]
  },
  {
   "cell_type": "code",
   "execution_count": 12,
   "metadata": {
    "colab": {},
    "colab_type": "code",
    "id": "G7zaJYGFvIJ3"
   },
   "outputs": [
    {
     "name": "stdout",
     "output_type": "stream",
     "text": [
      "Simple (no smoothing) bayes accuracy 49.50%\n"
     ]
    }
   ],
   "source": [
    "bayes = BayesClassifier(False, False, 1) \n",
    "\n",
    "train_indices = list(range(0,900))\n",
    "test_indices  = list(range(900, 1000))\n",
    "\n",
    "simple_bayes_accuracy, simple_bayes_results = bayes.train_and_classify(train_indices, test_indices)\n",
    "print(\"Simple (no smoothing) bayes accuracy {0:.2f}%\".format(simple_bayes_accuracy))"
   ]
  },
  {
   "cell_type": "markdown",
   "metadata": {
    "colab_type": "text",
    "id": "0INK-PBoM6CB"
   },
   "source": [
    "#### (Bonus Questions) Would you consider accuracy to also be a good way to evaluate your classifier in a situation where 90% of your data instances are of positive movie reviews? (1pt)\n",
    "\n",
    "You can simulate this scenario by keeping the positive reviews\n",
    "data unchanged, but only using negative reviews cv000–cv089 for\n",
    "training, and cv900–cv909 for testing. Calculate the classification\n",
    "accuracy, and explain what changed."
   ]
  },
  {
   "cell_type": "code",
   "execution_count": 13,
   "metadata": {
    "colab": {},
    "colab_type": "code",
    "id": "GWDkt5ZrrFGp"
   },
   "outputs": [
    {
     "name": "stdout",
     "output_type": "stream",
     "text": [
      "Simple (no smoothing) bayes accuracy trained on 90% positive reviews 9.09%\n"
     ]
    }
   ],
   "source": [
    "# Question is very vague, but here is what we think the data should look like:\n",
    "#  TRAIN\n",
    "#  0 - 899 : positive reviews\n",
    "#  0 - 89  : negative reviews\n",
    "#\n",
    "#  TEST\n",
    "#  900 - 999 : positive reviews\n",
    "#  900 - 909 : negative reviews\n",
    "#\n",
    "\n",
    "bayes = BayesClassifier(False, False, 1)\n",
    "\n",
    "train_indices = list(range(0,900))\n",
    "train_sentiment = []\n",
    "\n",
    "# For review 0 - 89   say that we want BOTH the positive and negative reviews.\n",
    "# For review 90 - 899 say that we want only the POS reviews.\n",
    "for i in range(0, len(train_indices)):\n",
    "    if i < 90:\n",
    "        train_sentiment.append(\"BOTH\")\n",
    "    else:\n",
    "        train_sentiment.append(\"POS\")\n",
    "        \n",
    "test_indices  = list(range(900, 1000))\n",
    "test_sentiment = []\n",
    "\n",
    "# For review 900 - 909 say that we want BOTH the positive and negative reviews.\n",
    "# For review 910 - 999  say that we want only the POS reviews.\n",
    "for i in range(0, len(test_indices)):\n",
    "    if i < 10:\n",
    "        test_sentiment.append(\"BOTH\")\n",
    "    else:\n",
    "        test_sentiment.append(\"POS\")\n",
    "\n",
    "simple_negative_bayes_accuracy, simple_negative_bayes_results = bayes.train_and_classify(train_indices, test_indices, train_sentiment, test_sentiment)\n",
    "print(\"Simple (no smoothing) bayes accuracy trained on 90% positive reviews {0:.2f}%\".format(simple_negative_bayes_accuracy))"
   ]
  },
  {
   "cell_type": "markdown",
   "metadata": {},
   "source": [
    "As you can see the classifier behaves badly now with only 9.09% accuracy. It predicts everything as a negative review. This is because it says very little negative reviews in the training data, and thus, each negative term in the training set will count 10 times more as each positive term in the training data. Meaning that a lot of negative words will have a high probability, explaining why everything gets predicted as negative."
   ]
  },
  {
   "cell_type": "markdown",
   "metadata": {
    "colab_type": "text",
    "id": "6wJzcHX3WUDm"
   },
   "source": [
    "## Smoothing\n",
    "\n",
    "The presence of words in the test dataset that\n",
    "haven’t been seen during training can cause probabilities in the Naive\n",
    "Bayes classifier to be $0$, thus making that particular test instance\n",
    "undecidable. The standard way to mitigate this effect (as well as to\n",
    "give more clout to rare words) is to use smoothing, in which the\n",
    "probability fraction\n",
    "$$\\frac{\\text{count}(w_i, c)}{\\sum\\limits_{w\\in V} \\text{count}(w, c)}$$ for a word\n",
    "$w_i$ becomes\n",
    "$$\\frac{\\text{count}(w_i, c) + \\text{smoothing}(w_i)}{\\sum\\limits_{w\\in V} \\text{count}(w, c) + \\sum\\limits_{w \\in V} \\text{smoothing}(w)}$$\n",
    "\n",
    "\n",
    "\n"
   ]
  },
  {
   "cell_type": "markdown",
   "metadata": {
    "colab_type": "text",
    "id": "PBNIcbwUWphC"
   },
   "source": [
    "#### (Q3.2) Implement Laplace feature smoothing (1pt)\n",
    "($smoothing(\\cdot) = \\kappa$, constant for all words) in your Naive\n",
    "Bayes classifier’s code, and report the impact on performance. \n",
    "Use $\\kappa = 1$."
   ]
  },
  {
   "cell_type": "code",
   "execution_count": 14,
   "metadata": {
    "colab": {},
    "colab_type": "code",
    "id": "g03yflCc9kpW"
   },
   "outputs": [
    {
     "name": "stdout",
     "output_type": "stream",
     "text": [
      "Smoothed bayes accuracy 82.50%\n"
     ]
    }
   ],
   "source": [
    "bayes = BayesClassifier(True, False, 1) \n",
    "\n",
    "train_indices = list(range(0,900))\n",
    "test_indices  = list(range(900, 1000))\n",
    "\n",
    "smoothing_bayes_accuracy, smoothing_bayes_results = bayes.train_and_classify(train_indices, test_indices)\n",
    "print(\"Smoothed bayes accuracy {0:.2f}%\".format(smoothing_bayes_accuracy))"
   ]
  },
  {
   "cell_type": "markdown",
   "metadata": {
    "colab_type": "text",
    "id": "-conSBddWWyN"
   },
   "source": [
    "#### (Q3.3) Is the difference between non smoothed (Q3.1) and smoothed (Q3.2) statistically significant? (0.5pt)"
   ]
  },
  {
   "cell_type": "code",
   "execution_count": 15,
   "metadata": {
    "colab": {},
    "colab_type": "code",
    "id": "CCvSNGlHMUPz"
   },
   "outputs": [
    {
     "name": "stdout",
     "output_type": "stream",
     "text": [
      "the difference is significant\n",
      "p_value = 0.000003547178174130642586494974890\n"
     ]
    },
    {
     "name": "stderr",
     "output_type": "stream",
     "text": [
      "/usr/local/Cellar/ipython/7.1.1/libexec/vendor/lib/python3.7/site-packages/ipykernel_launcher.py:27: DeprecationWarning: `comb` is deprecated!\n",
      "Importing `comb` from scipy.misc is deprecated in scipy 1.0.0. Use `scipy.special.comb` instead.\n"
     ]
    }
   ],
   "source": [
    "p_value = sign_test(simple_bayes_results, smoothing_bayes_results)\n",
    "print(\"p_value =\", p_value)"
   ]
  },
  {
   "cell_type": "markdown",
   "metadata": {
    "colab_type": "text",
    "id": "ZiGcgwba87D5"
   },
   "source": [
    "## Cross-validation\n",
    "\n",
    "A serious danger in using Machine Learning on small datasets, with many\n",
    "iterations of slightly different versions of the algorithms, is that we\n",
    "end up with Type III errors, also called the “testing hypotheses\n",
    "suggested by the data” errors. This type of error occurs when we make\n",
    "repeated improvements to our classifiers by playing with features and\n",
    "their processing, but we don’t get a fresh, never-before seen test\n",
    "dataset every time. Thus, we risk developing a classifier that’s better\n",
    "and better on our data, but worse and worse at generalizing to new,\n",
    "never-before seen data.\n",
    "\n",
    "A simple method to guard against Type III errors is to use\n",
    "cross-validation. In N-fold cross-validation, we divide the data into N\n",
    "distinct chunks / folds. Then, we repeat the experiment N times, each\n",
    "time holding out one of the chunks for testing, training our classifier\n",
    "on the remaining N - 1 data chunks, and reporting performance on the\n",
    "held-out chunk. We can use different strategies for dividing the data:\n",
    "\n",
    "-   Consecutive splitting:\n",
    "  - cv000–cv099 = Split 1\n",
    "  - cv100–cv199 = Split 2\n",
    "  - etc.\n",
    "  \n",
    "-   Round-robin splitting (mod 10):\n",
    "  - cv000, cv010, cv020, … = Split 1\n",
    "  - cv001, cv011, cv021, … = Split 2\n",
    "  - etc.\n",
    "\n",
    "-   Random sampling/splitting\n",
    "  - Not used here (but you may choose to split this way in a non-educational situation)\n",
    "\n",
    "#### (Q3.4) Write the code to implement 10-fold cross-validation using round-robin splitting for your Naive Bayes classifier from Q3.2 and compute the 10 accuracies. Report the final performance, which is the average of the performances per fold. If all splits perform equally well, this is a good sign. (1pt)\n",
    "\n",
    "\n",
    "\n",
    "\n"
   ]
  },
  {
   "cell_type": "code",
   "execution_count": 16,
   "metadata": {
    "colab": {},
    "colab_type": "code",
    "id": "3KeCGPa7Nuzx"
   },
   "outputs": [
    {
     "name": "stdout",
     "output_type": "stream",
     "text": [
      "Progress 0%\n",
      "Progress 10%\n",
      "Progress 20%\n",
      "Progress 30%\n",
      "Progress 40%\n",
      "Progress 50%\n",
      "Progress 60%\n",
      "Progress 70%\n",
      "Progress 80%\n",
      "Progress 90%\n",
      "10-fold validation average accuracy for 10 folds: 81.70%\n"
     ]
    }
   ],
   "source": [
    "#\n",
    "# Returns test_indices, and train_indices according to the round robin split algorithm.\n",
    "#\n",
    "def round_robin_split_indices(n_split):\n",
    "    test_indices = []\n",
    "    train_indices = []\n",
    "    \n",
    "    for i in range(0, 1000):\n",
    "        if i % 10 == n_split:\n",
    "            test_indices.append(i)\n",
    "        else:\n",
    "            train_indices.append(i)\n",
    "            \n",
    "    return test_indices, train_indices\n",
    "\n",
    "#\n",
    "# Performs the kfold validation.\n",
    "#\n",
    "def do_kfold(use_smoothing=False, use_stemming=False, n_grams=1):    \n",
    "    sum_accuracy   = 0\n",
    "    accuracies     = []\n",
    "    total_variance = 0\n",
    "    \n",
    "    all_results = []\n",
    "    \n",
    "    bayes = BayesClassifier(use_smoothing, use_stemming, n_grams)\n",
    "    \n",
    "    for i in range(0, 10):\n",
    "        print(\"Progress {0:.0f}%\".format(i / 10 * 100))\n",
    "        \n",
    "        test_indices, train_indices = round_robin_split_indices(i)\n",
    "        \n",
    "        accuracy, result = bayes.train_and_classify(train_indices, test_indices)\n",
    "        sum_accuracy += accuracy\n",
    "        \n",
    "        accuracies.append(accuracy)\n",
    "        \n",
    "        for r in result:\n",
    "            all_results.append(r)\n",
    "\n",
    "    avg_accuracy = sum_accuracy / 10\n",
    "    \n",
    "    for i in range(0, 10):\n",
    "        sqred_error = (accuracies[i] - avg_accuracy)**2\n",
    "        total_variance += sqred_error\n",
    "    \n",
    "    variance_accuracy = total_variance / 10 \n",
    "    \n",
    "    \n",
    "    return avg_accuracy, variance_accuracy, all_results\n",
    "        \n",
    "    \n",
    "\n",
    "smoothing_avg_accuracy, smoothing_variance, smoothing_results_kfold = do_kfold(True, False, 1)\n",
    "print(\"10-fold validation average accuracy for 10 folds: {0:.2f}%\".format(smoothing_avg_accuracy))"
   ]
  },
  {
   "cell_type": "markdown",
   "metadata": {
    "colab_type": "text",
    "id": "otdlsDXBNyOa"
   },
   "source": [
    "#### (Q3.5) Write code to calculate and report variance, in addition to the final performance. (1pt)\n",
    "\n",
    "**Please report all future results using 10-fold cross-validation now\n",
    "(unless told to use the held-out test set).**"
   ]
  },
  {
   "cell_type": "code",
   "execution_count": 17,
   "metadata": {
    "colab": {},
    "colab_type": "code",
    "id": "ZoBQm1KuNzNR"
   },
   "outputs": [
    {
     "name": "stdout",
     "output_type": "stream",
     "text": [
      "10-fold validation variance: 6.51\n"
     ]
    }
   ],
   "source": [
    "print(\"10-fold validation variance: {0:.2f}\".format(smoothing_variance))"
   ]
  },
  {
   "cell_type": "markdown",
   "metadata": {
    "colab_type": "text",
    "id": "s6A2zX9_BRKm"
   },
   "source": [
    "## Features, overfitting, and the curse of dimensionality\n",
    "\n",
    "In the Bag-of-Words model, ideally we would like each distinct word in\n",
    "the text to be mapped to its own dimension in the output vector\n",
    "representation. However, real world text is messy, and we need to decide\n",
    "on what we consider to be a word. For example, is “`word`\" different\n",
    "from “`Word`\", from “`word`”, or from “`words`\"? Too strict a\n",
    "definition, and the number of features explodes, while our algorithm\n",
    "fails to learn anything generalisable. Too lax, and we risk destroying\n",
    "our learning signal. In the following section, you will learn about\n",
    "confronting the feature sparsity and the overfitting problems as they\n",
    "occur in NLP classification tasks."
   ]
  },
  {
   "cell_type": "markdown",
   "metadata": {
    "colab_type": "text",
    "id": "EKK8FNt8VtcZ"
   },
   "source": [
    "#### (Q3.6): A touch of linguistics (1pt)\n",
    "\n",
    "Taking a step further, you can use stemming to\n",
    "hash different inflections of a word to the same feature in the BoW\n",
    "vector space. How does the performance of your classifier change when\n",
    "you use stemming on your training and test datasets? Please use the [Porter stemming\n",
    "    algorithm](http://www.nltk.org/howto/stem.html) from NLTK.\n",
    " Also, you should do cross validation and concatenate the predictions from all folds to compute the significance."
   ]
  },
  {
   "cell_type": "code",
   "execution_count": 18,
   "metadata": {
    "colab": {},
    "colab_type": "code",
    "id": "NxtCul1IrBi_"
   },
   "outputs": [
    {
     "name": "stdout",
     "output_type": "stream",
     "text": [
      "Progress 0%\n",
      "Progress 10%\n",
      "Progress 20%\n",
      "Progress 30%\n",
      "Progress 40%\n",
      "Progress 50%\n",
      "Progress 60%\n",
      "Progress 70%\n",
      "Progress 80%\n",
      "Progress 90%\n",
      "10-fold stemming average accuracy 81.45%\n"
     ]
    }
   ],
   "source": [
    "stemming_avg_accuracy, stemming_variance, stemming_results_kfold = do_kfold(\"BOTH\", True, True)\n",
    "print(\"10-fold stemming average accuracy {0:.2f}%\".format(stemming_avg_accuracy))"
   ]
  },
  {
   "cell_type": "markdown",
   "metadata": {
    "colab_type": "text",
    "id": "6SrJ1BeLXTnk"
   },
   "source": [
    "#### (Q3.7): Is the difference between NB with smoothing and NB with smoothing+stemming significant? (0.5pt)\n"
   ]
  },
  {
   "cell_type": "code",
   "execution_count": 19,
   "metadata": {
    "colab": {},
    "colab_type": "code",
    "id": "gYqKBOiIrInT"
   },
   "outputs": [
    {
     "name": "stderr",
     "output_type": "stream",
     "text": [
      "/usr/local/Cellar/ipython/7.1.1/libexec/vendor/lib/python3.7/site-packages/ipykernel_launcher.py:27: DeprecationWarning: `comb` is deprecated!\n",
      "Importing `comb` from scipy.misc is deprecated in scipy 1.0.0. Use `scipy.special.comb` instead.\n"
     ]
    },
    {
     "name": "stdout",
     "output_type": "stream",
     "text": [
      "the difference is not significant\n",
      "p_value = 0.9287507758426057968438994560\n"
     ]
    }
   ],
   "source": [
    "p_value = sign_test(stemming_results_kfold, smoothing_results_kfold)\n",
    "print(\"p_value =\", p_value)"
   ]
  },
  {
   "cell_type": "markdown",
   "metadata": {
    "colab_type": "text",
    "id": "JkDHVq_1XUVP"
   },
   "source": [
    "#### Q3.8: What happens to the number of features (i.e., the size of the vocabulary) when using stemming as opposed to (Q3.2)? (0.5pt)\n",
    "Give actual numbers. You can use the held-out training set to determine these."
   ]
  },
  {
   "cell_type": "code",
   "execution_count": 20,
   "metadata": {
    "colab": {},
    "colab_type": "code",
    "id": "MA3vee5-rJyy"
   },
   "outputs": [
    {
     "name": "stdout",
     "output_type": "stream",
     "text": [
      "Number of words withouth stemming: 45348\n",
      "Number of words with stemming: 32404\n"
     ]
    }
   ],
   "source": [
    "bayes          = BayesClassifier(False, False, 1)\n",
    "bayes_stemming = BayesClassifier(False, True, 1)\n",
    "\n",
    "train_indices  = list(range(0, 900))\n",
    "\n",
    "bow          = bayes.train(train_indices, [])\n",
    "bow_stemming = bayes_stemming.train(train_indices, [])\n",
    "\n",
    "print(\"Number of words withouth stemming: {}\".format(bow.get_n_unique_words()))\n",
    "print(\"Number of words with stemming: {}\".format(bow_stemming.get_n_unique_words()))"
   ]
  },
  {
   "cell_type": "markdown",
   "metadata": {
    "colab_type": "text",
    "id": "SoazfxbNV5Lq"
   },
   "source": [
    "#### Q3.9: Putting some word order back in (0.5+0.5pt=1pt)\n",
    "\n",
    "A simple way of retaining some of the word\n",
    "order information when using bag-of-words representations is to add **n-grams** features. \n",
    "Retrain your classifier from (Q3.4) using **unigrams+bigrams** and\n",
    "**unigrams+bigrams+trigrams** as features, and report accuracy and statistical significances (in comparison to the experiment at (Q3.4) for all 10 folds, and between the new systems).\n",
    "\n",
    "\n",
    "\n"
   ]
  },
  {
   "cell_type": "code",
   "execution_count": 21,
   "metadata": {
    "colab": {},
    "colab_type": "code",
    "id": "eYuKMTOpq9jz"
   },
   "outputs": [
    {
     "name": "stdout",
     "output_type": "stream",
     "text": [
      "Progress 0%\n",
      "Progress 10%\n",
      "Progress 20%\n",
      "Progress 30%\n",
      "Progress 40%\n",
      "Progress 50%\n",
      "Progress 60%\n",
      "Progress 70%\n",
      "Progress 80%\n",
      "Progress 90%\n",
      "Progress 0%\n",
      "Progress 10%\n",
      "Progress 20%\n",
      "Progress 30%\n",
      "Progress 40%\n",
      "Progress 50%\n",
      "Progress 60%\n",
      "Progress 70%\n",
      "Progress 80%\n",
      "Progress 90%\n",
      "Unigram average accuracy 81.70%\n",
      "Bigram average accuracy 84.30%\n",
      "Trigram average accuracy 85.15%\n"
     ]
    }
   ],
   "source": [
    "bigram_avg_accuracy, bigram_variance, bigram_results_kfold = do_kfold(True, False, 2)\n",
    "trigram_avg_accuracy, trigram_variance, trigram_results_kfold = do_kfold(True, False, 3)\n",
    "\n",
    "print(\"Unigram average accuracy {0:.2f}%\".format(smoothing_avg_accuracy))\n",
    "print(\"Bigram average accuracy {0:.2f}%\".format(bigram_avg_accuracy))\n",
    "print(\"Trigram average accuracy {0:.2f}%\".format(trigram_avg_accuracy))"
   ]
  },
  {
   "cell_type": "code",
   "execution_count": 22,
   "metadata": {},
   "outputs": [
    {
     "name": "stdout",
     "output_type": "stream",
     "text": [
      "Improvement from unigrams to unigrams+bigrams\n"
     ]
    },
    {
     "name": "stderr",
     "output_type": "stream",
     "text": [
      "/usr/local/Cellar/ipython/7.1.1/libexec/vendor/lib/python3.7/site-packages/ipykernel_launcher.py:27: DeprecationWarning: `comb` is deprecated!\n",
      "Importing `comb` from scipy.misc is deprecated in scipy 1.0.0. Use `scipy.special.comb` instead.\n"
     ]
    },
    {
     "name": "stdout",
     "output_type": "stream",
     "text": [
      "the difference is not significant\n",
      "p_value = 0.2541159781667429741512855018\n",
      "\n",
      "\n",
      "Improvement from unigrams+bigrams to unigrams+bigrams+trigrams\n",
      "the difference is not significant\n",
      "p_value = 0.7205914343484663721114959722\n"
     ]
    }
   ],
   "source": [
    "print(\"Improvement from unigrams to unigrams+bigrams\")\n",
    "p_value = sign_test(bigram_results_kfold, smoothing_results_kfold)\n",
    "print(\"p_value =\", p_value)\n",
    "\n",
    "\n",
    "print(\"\\n\\nImprovement from unigrams+bigrams to unigrams+bigrams+trigrams\")\n",
    "p_value = sign_test(bigram_results_kfold, trigram_results_kfold)\n",
    "print(\"p_value =\", p_value)"
   ]
  },
  {
   "cell_type": "markdown",
   "metadata": {
    "colab_type": "text",
    "id": "dVrGGArkrWoL"
   },
   "source": [
    "\n",
    "#### Q3.10: How many features does the BoW model have to take into account now? (0.5pt)\n",
    "How does this number compare (e.g., linear, square, cubed, exponential) to the number of features at (Q3.8)? \n",
    "\n",
    "Use the held-out training set once again for this.\n"
   ]
  },
  {
   "cell_type": "code",
   "execution_count": 23,
   "metadata": {
    "colab": {},
    "colab_type": "code",
    "id": "_z8sAJeUrdtM"
   },
   "outputs": [
    {
     "name": "stdout",
     "output_type": "stream",
     "text": [
      "Number of features with unigrams: 45348\n",
      "Number of features with bigrams: 471032\n",
      "Number of features with trigrams: 1416686\n"
     ]
    }
   ],
   "source": [
    "bayes_bigrams  = BayesClassifier(False, False, 2)\n",
    "bayes_trigrams = BayesClassifier(False, False, 3)\n",
    "bayes_fourgrams = BayesClassifier(False, False, 4)\n",
    "\n",
    "train_indices  = list(range(0, 900))\n",
    "\n",
    "bow_bigrams  = bayes_bigrams.train(train_indices, [])\n",
    "bow_trigrams = bayes_trigrams.train(train_indices, [])\n",
    "\n",
    "print(\"Number of features with unigrams: {}\".format(bow.get_n_unique_words()))\n",
    "print(\"Number of features with bigrams: {}\".format(bow_bigrams.get_n_unique_words()))\n",
    "print(\"Number of features with trigrams: {}\".format(bow_trigrams.get_n_unique_words()))"
   ]
  },
  {
   "cell_type": "markdown",
   "metadata": {},
   "source": [
    "As you can see the number of features goes from ~50,000 to ~500,000 to ~1,500,000 this shows that the increase in features is exponential"
   ]
  },
  {
   "cell_type": "markdown",
   "metadata": {
    "colab_type": "text",
    "id": "CHWKDL3YV6vh"
   },
   "source": [
    "# Support Vector Machines (4pts)\n"
   ]
  },
  {
   "cell_type": "markdown",
   "metadata": {
    "colab_type": "text",
    "id": "hJSYhcVaoJGt"
   },
   "source": [
    "Though simple to understand, implement, and debug, one\n",
    "major problem with the Naive Bayes classifier is that its performance\n",
    "deteriorates (becomes skewed) when it is being used with features which\n",
    "are not independent (i.e., are correlated). Another popular classifier\n",
    "that doesn’t scale as well to big data, and is not as simple to debug as\n",
    "Naive Bayes, but that doesn’t assume feature independence is the Support\n",
    "Vector Machine (SVM) classifier.\n",
    "\n",
    "You can find more details about SVMs in Chapter 7 of Bishop: Pattern Recognition and Machine Learning.\n",
    "Other sources for learning SVM:\n",
    "* http://web.mit.edu/zoya/www/SVM.pdf\n",
    "* http://www.cs.columbia.edu/~kathy/cs4701/documents/jason_svm_tutorial.pdf\n",
    "* https://pythonprogramming.net/support-vector-machine-intro-machine-learning-tutorial/\n",
    "\n",
    "\n",
    "\n",
    "\n",
    "\n",
    "\n",
    "\n",
    "Use the scikit-learn implementation of \n",
    "[SVM.](http://scikit-learn.org/stable/modules/svm.html) with the default parameters.\n",
    "\n"
   ]
  },
  {
   "cell_type": "markdown",
   "metadata": {
    "colab_type": "text",
    "id": "0LnzNtQBV8gr"
   },
   "source": [
    "#### (Q4.1): Train SVM and compare to Naive Bayes (2pt)\n",
    "\n",
    "Train an SVM classifier (sklearn.svm.LinearSVC) using your features. Compare the\n",
    "classification performance of the SVM classifier to that of the Naive\n",
    "Bayes classifier from (Q3.4) and report the numbers.\n",
    "Do cross validation and concatenate the predictions from all folds to compute the significance.  Are the results significantly better?\n",
    "\n"
   ]
  },
  {
   "cell_type": "code",
   "execution_count": 24,
   "metadata": {
    "colab": {},
    "colab_type": "code",
    "id": "JBscui8Mvoz0"
   },
   "outputs": [
    {
     "name": "stdout",
     "output_type": "stream",
     "text": [
      "Progress 0%\n",
      "Progress 10%\n"
     ]
    },
    {
     "name": "stderr",
     "output_type": "stream",
     "text": [
      "/usr/local/lib/python3.7/site-packages/sklearn/svm/base.py:922: ConvergenceWarning: Liblinear failed to converge, increase the number of iterations.\n",
      "  \"the number of iterations.\", ConvergenceWarning)\n"
     ]
    },
    {
     "name": "stdout",
     "output_type": "stream",
     "text": [
      "Progress 20%\n"
     ]
    },
    {
     "name": "stderr",
     "output_type": "stream",
     "text": [
      "/usr/local/lib/python3.7/site-packages/sklearn/svm/base.py:922: ConvergenceWarning: Liblinear failed to converge, increase the number of iterations.\n",
      "  \"the number of iterations.\", ConvergenceWarning)\n"
     ]
    },
    {
     "name": "stdout",
     "output_type": "stream",
     "text": [
      "Progress 30%\n"
     ]
    },
    {
     "name": "stderr",
     "output_type": "stream",
     "text": [
      "/usr/local/lib/python3.7/site-packages/sklearn/svm/base.py:922: ConvergenceWarning: Liblinear failed to converge, increase the number of iterations.\n",
      "  \"the number of iterations.\", ConvergenceWarning)\n"
     ]
    },
    {
     "name": "stdout",
     "output_type": "stream",
     "text": [
      "Progress 40%\n"
     ]
    },
    {
     "name": "stderr",
     "output_type": "stream",
     "text": [
      "/usr/local/lib/python3.7/site-packages/sklearn/svm/base.py:922: ConvergenceWarning: Liblinear failed to converge, increase the number of iterations.\n",
      "  \"the number of iterations.\", ConvergenceWarning)\n"
     ]
    },
    {
     "name": "stdout",
     "output_type": "stream",
     "text": [
      "Progress 50%\n"
     ]
    },
    {
     "name": "stderr",
     "output_type": "stream",
     "text": [
      "/usr/local/lib/python3.7/site-packages/sklearn/svm/base.py:922: ConvergenceWarning: Liblinear failed to converge, increase the number of iterations.\n",
      "  \"the number of iterations.\", ConvergenceWarning)\n"
     ]
    },
    {
     "name": "stdout",
     "output_type": "stream",
     "text": [
      "Progress 60%\n"
     ]
    },
    {
     "name": "stderr",
     "output_type": "stream",
     "text": [
      "/usr/local/lib/python3.7/site-packages/sklearn/svm/base.py:922: ConvergenceWarning: Liblinear failed to converge, increase the number of iterations.\n",
      "  \"the number of iterations.\", ConvergenceWarning)\n"
     ]
    },
    {
     "name": "stdout",
     "output_type": "stream",
     "text": [
      "Progress 70%\n"
     ]
    },
    {
     "name": "stderr",
     "output_type": "stream",
     "text": [
      "/usr/local/lib/python3.7/site-packages/sklearn/svm/base.py:922: ConvergenceWarning: Liblinear failed to converge, increase the number of iterations.\n",
      "  \"the number of iterations.\", ConvergenceWarning)\n"
     ]
    },
    {
     "name": "stdout",
     "output_type": "stream",
     "text": [
      "Progress 80%\n"
     ]
    },
    {
     "name": "stderr",
     "output_type": "stream",
     "text": [
      "/usr/local/lib/python3.7/site-packages/sklearn/svm/base.py:922: ConvergenceWarning: Liblinear failed to converge, increase the number of iterations.\n",
      "  \"the number of iterations.\", ConvergenceWarning)\n"
     ]
    },
    {
     "name": "stdout",
     "output_type": "stream",
     "text": [
      "Progress 90%\n",
      "10-fold average accuracy 83.20%\n",
      "10-fold accuracy variance  5.01%\n"
     ]
    },
    {
     "name": "stderr",
     "output_type": "stream",
     "text": [
      "/usr/local/Cellar/ipython/7.1.1/libexec/vendor/lib/python3.7/site-packages/ipykernel_launcher.py:27: DeprecationWarning: `comb` is deprecated!\n",
      "Importing `comb` from scipy.misc is deprecated in scipy 1.0.0. Use `scipy.special.comb` instead.\n"
     ]
    },
    {
     "name": "stdout",
     "output_type": "stream",
     "text": [
      "the difference is not significant\n",
      "p_value = 0.5166977962573607869966679093\n"
     ]
    }
   ],
   "source": [
    "from sklearn import preprocessing, model_selection, neighbors, svm\n",
    "from sklearn.feature_extraction.text import CountVectorizer\n",
    "from sklearn.svm import LinearSVC as SVC\n",
    "from nltk.tokenize import TreebankWordTokenizer\n",
    "\n",
    "#\n",
    "## Returns test_indices, and train_indices according to the round robin split algorithm.\n",
    "## adjusted to before, as features object has 2000 rows and not just 1000\n",
    "#\n",
    "def round_robin_split_indices_features(n_split):\n",
    "    test_indices = []\n",
    "    train_indices = []\n",
    "    test_indices_features = []\n",
    "    for i in range(0, 1000):\n",
    "        if i % 10 == n_split:\n",
    "            test_indices.append(i)\n",
    "        else:\n",
    "            train_indices.append(i)\n",
    "    \n",
    "    test_indices_features = test_indices + [x + 1000 for x in test_indices]\n",
    "    train_indices_features = train_indices + [x + 1000 for x in train_indices]\n",
    "    \n",
    "    return train_indices_features, train_indices, test_indices_features, test_indices\n",
    "\n",
    "# example: split 5 is testsplit at the moment\n",
    "#train_features, train_ind, test_features, test_ind = round_robin_split_indices(5)\n",
    "\n",
    "#\n",
    "## vectorizes original text documents \n",
    "#\n",
    "def get_vectorized_corpus(reviews, indices, tags, without_closed):\n",
    "    corpus = []\n",
    "\n",
    "    for review in reviews: \n",
    "        if (review['cv'] not in indices):\n",
    "            continue\n",
    "        words = []\n",
    "        word_tag = []\n",
    "\n",
    "        for line in review['content']:\n",
    "            for word_pair in line:\n",
    "                word = word_pair[0].lower() \n",
    "                \n",
    "                if(tags != False):\n",
    "                    tag = word_pair[1]\n",
    "\n",
    "                    if(without_closed != False):\n",
    "        \n",
    "                        if(tag.startswith(('V', 'N', 'RB', 'J'))):\n",
    "                            word_tag = word + \"_\" + tag\n",
    "                        \n",
    "                        else:\n",
    "                            continue\n",
    "                    else:\n",
    "                        word_tag = word + \"_\" + tag   \n",
    "                        \n",
    "                else:\n",
    "                    word_tag = word\n",
    "                words.append(word_tag)\n",
    "        corpus.append(' '.join(map(str, words)))\n",
    "\n",
    "    count_vect = CountVectorizer(tokenizer = TreebankWordTokenizer().tokenize)\n",
    "    vectorized_features = count_vect.fit_transform(corpus).toarray()\n",
    "    \n",
    "    return vectorized_features\n",
    "\n",
    "#\n",
    "## get original sentiment labels\n",
    "#\n",
    "def get_labels(reviews, indices):\n",
    "    labels = []\n",
    "    for review in reviews: \n",
    "        if (review['cv'] not in indices):\n",
    "            continue\n",
    "        else: \n",
    "            labels.append(review[\"sentiment\"])\n",
    "    return labels\n",
    "\n",
    "#\n",
    "## for obtained indices, one svm is fitted and evaluated according to training and test documents\n",
    "#\n",
    "def train_and_classify_one_svm(features, train_indices_features, train_indices, test_indices_features, test_indices):\n",
    "\n",
    "    # training indices \n",
    "    train_features = features[train_indices_features]\n",
    "    train_labels = get_labels(reviews, train_indices)\n",
    "\n",
    "    # test indices \n",
    "    test_features = features[test_indices_features]\n",
    "    test_labels = get_labels(reviews, test_indices)\n",
    "\n",
    "    # linear SVM on training feature vector and labels  \n",
    "    classifier = SVC()\n",
    "    classifier.fit(train_features, train_labels)\n",
    "\n",
    "    # label prediction for test_feature vector\n",
    "    label_prediction = classifier.predict(test_features)\n",
    "    \n",
    "    # tracking results\n",
    "    total   = 0\n",
    "    correct = 0\n",
    "    results = []\n",
    "\n",
    "    for i in range(0, len(test_labels)):\n",
    "\n",
    "        if label_prediction[i] == test_labels[i]:\n",
    "            correct += 1\n",
    "            results.append('+')\n",
    "        else:\n",
    "            results.append('-')\n",
    "        total += 1\n",
    "\n",
    "\n",
    "    accuracy = correct / total * 100\n",
    "    \n",
    "    return accuracy, results\n",
    "\n",
    "#\n",
    "## similar to NB, kfold for SVM (only difference are slightly different indices (due to structure of feature object))\n",
    "#\n",
    "def do_kfold_svm(tags=False, without_closed=False):    \n",
    "\n",
    "    # create features depending on type of tags [notags, alltags, withoutclosedform]\n",
    "    \n",
    "    features = get_vectorized_corpus(reviews, list(range(0,1000)), tags, without_closed)\n",
    "\n",
    "    sum_accuracy   = 0\n",
    "    accuracies     = []\n",
    "    total_variance = 0\n",
    "    \n",
    "    all_results = []\n",
    "      \n",
    "    for i in range(0, 10):\n",
    "        print(\"Progress {0:.0f}%\".format(i / 10 * 100))\n",
    "        \n",
    "        train_features, train_ind, test_features, test_ind = round_robin_split_indices_features(i)\n",
    "        \n",
    "        accuracy, results = train_and_classify_one_svm(features, train_features, train_ind, test_features, test_ind)\n",
    "        sum_accuracy += accuracy\n",
    "        \n",
    "        accuracies.append(accuracy)\n",
    "        \n",
    "        for r in results:\n",
    "            all_results.append(r)\n",
    "\n",
    "    avg_accuracy = sum_accuracy / 10\n",
    "    \n",
    "    for i in range(0, 10):\n",
    "        sqred_error = (accuracies[i] - avg_accuracy)**2\n",
    "        total_variance += sqred_error\n",
    "    \n",
    "    variance_accuracy = total_variance / 10 \n",
    "      \n",
    "    return avg_accuracy, variance_accuracy, all_results\n",
    "        \n",
    "\n",
    "# calculate svm kfold \n",
    "svm_avg_accuracy, svm_variance, svm_results_kfold = do_kfold_svm()\n",
    "\n",
    "print(\"10-fold average accuracy {0:.2f}%\".format(svm_avg_accuracy))\n",
    "print(\"10-fold accuracy variance  {0:.2f}%\".format(svm_variance))\n",
    "\n",
    "# significant difference to Q3.4?\n",
    "p_value = sign_test(smoothing_results_kfold, svm_results_kfold)\n",
    "print(\"p_value =\", p_value)"
   ]
  },
  {
   "cell_type": "markdown",
   "metadata": {
    "colab_type": "text",
    "id": "ifXVWcK0V9qY"
   },
   "source": [
    "### More linguistics\n",
    "\n",
    "Now add in part-of-speech features. You will find the\n",
    "movie review dataset has already been POS-tagged for you. Try to\n",
    "replicate what Pang et al. were doing:\n",
    "\n"
   ]
  },
  {
   "cell_type": "markdown",
   "metadata": {
    "colab_type": "text",
    "id": "xA3I82o4oWGu"
   },
   "source": [
    "#### (Q4.2) Replace your features with word+POS features, and report performance with the SVM. Does this help? Do cross validation and concatenate the predictions from all folds to compute the significance. Are the results significant? Why?  (1pt)\n"
   ]
  },
  {
   "cell_type": "code",
   "execution_count": 25,
   "metadata": {
    "colab": {},
    "colab_type": "code",
    "id": "NOvjYe-t2Br6"
   },
   "outputs": [
    {
     "name": "stdout",
     "output_type": "stream",
     "text": [
      "Progress 0%\n"
     ]
    },
    {
     "name": "stderr",
     "output_type": "stream",
     "text": [
      "/usr/local/lib/python3.7/site-packages/sklearn/svm/base.py:922: ConvergenceWarning: Liblinear failed to converge, increase the number of iterations.\n",
      "  \"the number of iterations.\", ConvergenceWarning)\n"
     ]
    },
    {
     "name": "stdout",
     "output_type": "stream",
     "text": [
      "Progress 10%\n"
     ]
    },
    {
     "name": "stderr",
     "output_type": "stream",
     "text": [
      "/usr/local/lib/python3.7/site-packages/sklearn/svm/base.py:922: ConvergenceWarning: Liblinear failed to converge, increase the number of iterations.\n",
      "  \"the number of iterations.\", ConvergenceWarning)\n"
     ]
    },
    {
     "name": "stdout",
     "output_type": "stream",
     "text": [
      "Progress 20%\n"
     ]
    },
    {
     "name": "stderr",
     "output_type": "stream",
     "text": [
      "/usr/local/lib/python3.7/site-packages/sklearn/svm/base.py:922: ConvergenceWarning: Liblinear failed to converge, increase the number of iterations.\n",
      "  \"the number of iterations.\", ConvergenceWarning)\n"
     ]
    },
    {
     "name": "stdout",
     "output_type": "stream",
     "text": [
      "Progress 30%\n"
     ]
    },
    {
     "name": "stderr",
     "output_type": "stream",
     "text": [
      "/usr/local/lib/python3.7/site-packages/sklearn/svm/base.py:922: ConvergenceWarning: Liblinear failed to converge, increase the number of iterations.\n",
      "  \"the number of iterations.\", ConvergenceWarning)\n"
     ]
    },
    {
     "name": "stdout",
     "output_type": "stream",
     "text": [
      "Progress 40%\n"
     ]
    },
    {
     "name": "stderr",
     "output_type": "stream",
     "text": [
      "/usr/local/lib/python3.7/site-packages/sklearn/svm/base.py:922: ConvergenceWarning: Liblinear failed to converge, increase the number of iterations.\n",
      "  \"the number of iterations.\", ConvergenceWarning)\n"
     ]
    },
    {
     "name": "stdout",
     "output_type": "stream",
     "text": [
      "Progress 50%\n"
     ]
    },
    {
     "name": "stderr",
     "output_type": "stream",
     "text": [
      "/usr/local/lib/python3.7/site-packages/sklearn/svm/base.py:922: ConvergenceWarning: Liblinear failed to converge, increase the number of iterations.\n",
      "  \"the number of iterations.\", ConvergenceWarning)\n"
     ]
    },
    {
     "name": "stdout",
     "output_type": "stream",
     "text": [
      "Progress 60%\n"
     ]
    },
    {
     "name": "stderr",
     "output_type": "stream",
     "text": [
      "/usr/local/lib/python3.7/site-packages/sklearn/svm/base.py:922: ConvergenceWarning: Liblinear failed to converge, increase the number of iterations.\n",
      "  \"the number of iterations.\", ConvergenceWarning)\n"
     ]
    },
    {
     "name": "stdout",
     "output_type": "stream",
     "text": [
      "Progress 70%\n"
     ]
    },
    {
     "name": "stderr",
     "output_type": "stream",
     "text": [
      "/usr/local/lib/python3.7/site-packages/sklearn/svm/base.py:922: ConvergenceWarning: Liblinear failed to converge, increase the number of iterations.\n",
      "  \"the number of iterations.\", ConvergenceWarning)\n"
     ]
    },
    {
     "name": "stdout",
     "output_type": "stream",
     "text": [
      "Progress 80%\n"
     ]
    },
    {
     "name": "stderr",
     "output_type": "stream",
     "text": [
      "/usr/local/lib/python3.7/site-packages/sklearn/svm/base.py:922: ConvergenceWarning: Liblinear failed to converge, increase the number of iterations.\n",
      "  \"the number of iterations.\", ConvergenceWarning)\n"
     ]
    },
    {
     "name": "stdout",
     "output_type": "stream",
     "text": [
      "Progress 90%\n"
     ]
    },
    {
     "name": "stderr",
     "output_type": "stream",
     "text": [
      "/usr/local/lib/python3.7/site-packages/sklearn/svm/base.py:922: ConvergenceWarning: Liblinear failed to converge, increase the number of iterations.\n",
      "  \"the number of iterations.\", ConvergenceWarning)\n",
      "/usr/local/Cellar/ipython/7.1.1/libexec/vendor/lib/python3.7/site-packages/ipykernel_launcher.py:27: DeprecationWarning: `comb` is deprecated!\n",
      "Importing `comb` from scipy.misc is deprecated in scipy 1.0.0. Use `scipy.special.comb` instead.\n"
     ]
    },
    {
     "name": "stdout",
     "output_type": "stream",
     "text": [
      "10-fold average accuracy 83.70%\n",
      "10-fold accuracy variance  3.96%\n",
      "the difference is not significant\n",
      "p_value = 0.8405124276655436267484850072\n"
     ]
    }
   ],
   "source": [
    "# What canges, when pos tags are taken into consideration as well?  \n",
    "svm_avg_accuracy_with_tags, svm_variance_with_tags, svm_results_kfold_with_tags = do_kfold_svm(tags=True)\n",
    "\n",
    "print(\"10-fold average accuracy {0:.2f}%\".format(svm_avg_accuracy_with_tags))\n",
    "print(\"10-fold accuracy variance  {0:.2f}%\".format(svm_variance_with_tags))\n",
    "\n",
    "# significant difference to Q3.4?\n",
    "p_value = sign_test(svm_results_kfold, svm_results_kfold_with_tags)\n",
    "print(\"p_value =\", p_value)"
   ]
  },
  {
   "cell_type": "markdown",
   "metadata": {
    "colab_type": "text",
    "id": "Su-3w87eMW0w"
   },
   "source": [
    "#### (Q4.3) Discard all closed-class words from your data (keep only nouns (N*), verbs (V*), adjectives (J*) and adverbs (RB*)), and report performance. Does this help? Do cross validation and concatenate the predictions from all folds to compute the significance. Are the results significantly better than when we don't discard the closed-class words? Why? (1pt)"
   ]
  },
  {
   "cell_type": "code",
   "execution_count": 26,
   "metadata": {
    "colab": {},
    "colab_type": "code",
    "id": "CCUPlPozCYUX"
   },
   "outputs": [
    {
     "name": "stdout",
     "output_type": "stream",
     "text": [
      "Progress 0%\n",
      "Progress 10%\n"
     ]
    },
    {
     "name": "stderr",
     "output_type": "stream",
     "text": [
      "/usr/local/lib/python3.7/site-packages/sklearn/svm/base.py:922: ConvergenceWarning: Liblinear failed to converge, increase the number of iterations.\n",
      "  \"the number of iterations.\", ConvergenceWarning)\n"
     ]
    },
    {
     "name": "stdout",
     "output_type": "stream",
     "text": [
      "Progress 20%\n",
      "Progress 30%\n"
     ]
    },
    {
     "name": "stderr",
     "output_type": "stream",
     "text": [
      "/usr/local/lib/python3.7/site-packages/sklearn/svm/base.py:922: ConvergenceWarning: Liblinear failed to converge, increase the number of iterations.\n",
      "  \"the number of iterations.\", ConvergenceWarning)\n"
     ]
    },
    {
     "name": "stdout",
     "output_type": "stream",
     "text": [
      "Progress 40%\n"
     ]
    },
    {
     "name": "stderr",
     "output_type": "stream",
     "text": [
      "/usr/local/lib/python3.7/site-packages/sklearn/svm/base.py:922: ConvergenceWarning: Liblinear failed to converge, increase the number of iterations.\n",
      "  \"the number of iterations.\", ConvergenceWarning)\n"
     ]
    },
    {
     "name": "stdout",
     "output_type": "stream",
     "text": [
      "Progress 50%\n"
     ]
    },
    {
     "name": "stderr",
     "output_type": "stream",
     "text": [
      "/usr/local/lib/python3.7/site-packages/sklearn/svm/base.py:922: ConvergenceWarning: Liblinear failed to converge, increase the number of iterations.\n",
      "  \"the number of iterations.\", ConvergenceWarning)\n"
     ]
    },
    {
     "name": "stdout",
     "output_type": "stream",
     "text": [
      "Progress 60%\n",
      "Progress 70%\n"
     ]
    },
    {
     "name": "stderr",
     "output_type": "stream",
     "text": [
      "/usr/local/lib/python3.7/site-packages/sklearn/svm/base.py:922: ConvergenceWarning: Liblinear failed to converge, increase the number of iterations.\n",
      "  \"the number of iterations.\", ConvergenceWarning)\n"
     ]
    },
    {
     "name": "stdout",
     "output_type": "stream",
     "text": [
      "Progress 80%\n"
     ]
    },
    {
     "name": "stderr",
     "output_type": "stream",
     "text": [
      "/usr/local/lib/python3.7/site-packages/sklearn/svm/base.py:922: ConvergenceWarning: Liblinear failed to converge, increase the number of iterations.\n",
      "  \"the number of iterations.\", ConvergenceWarning)\n"
     ]
    },
    {
     "name": "stdout",
     "output_type": "stream",
     "text": [
      "Progress 90%\n",
      "10-fold average accuracy 84.60%\n",
      "10-fold accuracy variance  3.74%\n"
     ]
    },
    {
     "name": "stderr",
     "output_type": "stream",
     "text": [
      "/usr/local/Cellar/ipython/7.1.1/libexec/vendor/lib/python3.7/site-packages/ipykernel_launcher.py:27: DeprecationWarning: `comb` is deprecated!\n",
      "Importing `comb` from scipy.misc is deprecated in scipy 1.0.0. Use `scipy.special.comb` instead.\n"
     ]
    },
    {
     "name": "stdout",
     "output_type": "stream",
     "text": [
      "the difference is not significant\n",
      "p_value = 0.7038578288249290578034132253\n"
     ]
    }
   ],
   "source": [
    "svm_avg_accuracy_without_closed, svm_variance_without_closed, svm_results_kfold_without_closed = do_kfold_svm(tags=True, without_closed=True)\n",
    "\n",
    "print(\"10-fold average accuracy {0:.2f}%\".format(svm_avg_accuracy_without_closed))\n",
    "print(\"10-fold accuracy variance  {0:.2f}%\".format(svm_variance_without_closed))\n",
    "\n",
    "# significant difference to all POS tags allowed?\n",
    "p_value = sign_test(svm_results_kfold_with_tags, svm_results_kfold_without_closed)\n",
    "print(\"p_value =\", p_value)\n"
   ]
  },
  {
   "cell_type": "markdown",
   "metadata": {
    "colab_type": "text",
    "id": "nfwqOciAl2No"
   },
   "source": [
    "# (Q5) Discussion (max. 500 words). (5pts)\n",
    "\n",
    "> Based on your experiments, what are the effective features and techniques in sentiment analysis? What information do different features encode?\n",
    "Why is this important? What are the limitations of these features and techniques?\n",
    " \n"
   ]
  },
  {
   "cell_type": "markdown",
   "metadata": {
    "colab_type": "text",
    "id": "ZYuse5WLmekZ"
   },
   "source": [
    "*Write your answer here in max. 500 words.*\n",
    "Discussion:\n",
    "effective features:\n",
    "\n",
    "- Smoothing, thus not excluding words, that are not seen in the training data, but give them a non zero probability, leads to significantly better accuracy, than Naive Bayes without smoothing. \n",
    "\n",
    "- Stemming:"
   ]
  },
  {
   "cell_type": "markdown",
   "metadata": {
    "colab_type": "text",
    "id": "iwaKwfWQhRk_"
   },
   "source": [
    "# Submission \n"
   ]
  },
  {
   "cell_type": "code",
   "execution_count": null,
   "metadata": {
    "colab": {},
    "colab_type": "code",
    "id": "aOUeaET5ijk-"
   },
   "outputs": [],
   "source": [
    "# Write your names and student numbers here:\n",
    "# Dirk Hoekstra #12283878\n",
    "# Philipp Lintl #12152498"
   ]
  },
  {
   "cell_type": "markdown",
   "metadata": {
    "colab_type": "text",
    "id": "3A9K-H6Tii3X"
   },
   "source": [
    "**That's it!**\n",
    "\n",
    "- Check if you answered all questions fully and correctly. \n",
    "- Download your completed notebook using `File -> Download .ipynb` \n",
    "- Also save your notebook as a Github Gist. Get it by choosing `File -> Save as Github Gist`.  Make sure that the gist has a secret link (not public).\n",
    "- Check if your answers are all included in the file you submit (e.g. check the Github Gist URL)\n",
    "- Submit your .ipynb file and link to the Github Gist via *Canvas*. One submission per group. "
   ]
  }
 ],
 "metadata": {
  "colab": {
   "collapsed_sections": [],
   "name": "NLP1 Practical I (student version)",
   "provenance": [],
   "toc_visible": true,
   "version": "0.3.2"
  },
  "kernelspec": {
   "display_name": "Python 3",
   "language": "python",
   "name": "python3"
  },
  "language_info": {
   "codemirror_mode": {
    "name": "ipython",
    "version": 3
   },
   "file_extension": ".py",
   "mimetype": "text/x-python",
   "name": "python",
   "nbconvert_exporter": "python",
   "pygments_lexer": "ipython3",
   "version": "3.7.1"
  }
 },
 "nbformat": 4,
 "nbformat_minor": 1
}
